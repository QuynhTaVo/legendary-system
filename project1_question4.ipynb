{
 "cells": [
  {
   "cell_type": "code",
   "execution_count": 1,
   "id": "455597fb-09c0-45a3-90a9-76aeaa5e0d5d",
   "metadata": {},
   "outputs": [],
   "source": [
    "import os, glob\n",
    "import pandas as pd\n",
    "import geopandas as gpd\n",
    "import numpy as np\n",
    "import folium\n",
    "from folium.plugins import HeatMap\n",
    "import matplotlib.pyplot as plt\n",
    "import seaborn as sns"
   ]
  },
  {
   "cell_type": "markdown",
   "id": "3df16254-b5dc-406e-93ed-4e95771a5029",
   "metadata": {},
   "source": [
    "Question: does superhost correlate with anything at all?"
   ]
  },
  {
   "cell_type": "markdown",
   "id": "7e0cb5f0-73c2-44aa-8a83-7e9fdbaa4039",
   "metadata": {},
   "source": [
    "<h1/>Prepare Data"
   ]
  },
  {
   "cell_type": "code",
   "execution_count": 2,
   "id": "9cf6ea69-df90-4ee0-92ae-74d1e73a4533",
   "metadata": {},
   "outputs": [],
   "source": [
    "#parameters setup\n",
    "local_folder='C:\\\\Users\\\\quynhvt5\\\\Documents\\\\airbnb\\\\'\n",
    "listings_csvs=glob.glob(os.path.join(local_folder, '*_listings.csv'))\n",
    "listings_columns=['id', 'host_is_superhost', 'latitude', 'longitude', 'review_scores_rating']\n",
    "calendar_csvs=glob.glob(os.path.join(local_folder, '*_calendar.csv'))\n",
    "calendar_columns=['listing_id', 'date', 'available', 'price']"
   ]
  },
  {
   "cell_type": "code",
   "execution_count": 3,
   "id": "105e881e-f1c4-4bf9-abba-c115637ad93f",
   "metadata": {
    "tags": []
   },
   "outputs": [
    {
     "name": "stderr",
     "output_type": "stream",
     "text": [
      "C:\\Users\\quynhvt5\\AppData\\Roaming\\Python\\Python310\\site-packages\\geopandas\\geodataframe.py:35: ShapelyDeprecationWarning: The array interface is deprecated and will no longer work in Shapely 2.0. Convert the '.coords' to a numpy array instead.\n",
      "  out = from_shapely(data)\n"
     ]
    },
    {
     "data": {
      "text/html": [
       "<div>\n",
       "<style scoped>\n",
       "    .dataframe tbody tr th:only-of-type {\n",
       "        vertical-align: middle;\n",
       "    }\n",
       "\n",
       "    .dataframe tbody tr th {\n",
       "        vertical-align: top;\n",
       "    }\n",
       "\n",
       "    .dataframe thead th {\n",
       "        text-align: right;\n",
       "    }\n",
       "</style>\n",
       "<table border=\"1\" class=\"dataframe\">\n",
       "  <thead>\n",
       "    <tr style=\"text-align: right;\">\n",
       "      <th></th>\n",
       "      <th>id</th>\n",
       "      <th>host_is_superhost</th>\n",
       "      <th>latitude</th>\n",
       "      <th>longitude</th>\n",
       "      <th>review_scores_rating</th>\n",
       "      <th>geometry</th>\n",
       "    </tr>\n",
       "  </thead>\n",
       "  <tbody>\n",
       "    <tr>\n",
       "      <th>0</th>\n",
       "      <td>23726706</td>\n",
       "      <td>f</td>\n",
       "      <td>52.34916</td>\n",
       "      <td>4.97879</td>\n",
       "      <td>4.99</td>\n",
       "      <td>POINT (4.97879 52.34916)</td>\n",
       "    </tr>\n",
       "    <tr>\n",
       "      <th>1</th>\n",
       "      <td>35815036</td>\n",
       "      <td>t</td>\n",
       "      <td>52.42419</td>\n",
       "      <td>4.95689</td>\n",
       "      <td>4.96</td>\n",
       "      <td>POINT (4.95689 52.42419)</td>\n",
       "    </tr>\n",
       "    <tr>\n",
       "      <th>2</th>\n",
       "      <td>31553121</td>\n",
       "      <td>f</td>\n",
       "      <td>52.43237</td>\n",
       "      <td>4.91821</td>\n",
       "      <td>4.74</td>\n",
       "      <td>POINT (4.91821 52.43237)</td>\n",
       "    </tr>\n",
       "    <tr>\n",
       "      <th>3</th>\n",
       "      <td>34745823</td>\n",
       "      <td>f</td>\n",
       "      <td>52.29620</td>\n",
       "      <td>5.01231</td>\n",
       "      <td>4.87</td>\n",
       "      <td>POINT (5.01231 52.29620)</td>\n",
       "    </tr>\n",
       "    <tr>\n",
       "      <th>4</th>\n",
       "      <td>44586947</td>\n",
       "      <td>t</td>\n",
       "      <td>52.31475</td>\n",
       "      <td>5.03030</td>\n",
       "      <td>5.00</td>\n",
       "      <td>POINT (5.03030 52.31475)</td>\n",
       "    </tr>\n",
       "  </tbody>\n",
       "</table>\n",
       "</div>"
      ],
      "text/plain": [
       "         id host_is_superhost  latitude  longitude  review_scores_rating  \\\n",
       "0  23726706                 f  52.34916    4.97879                  4.99   \n",
       "1  35815036                 t  52.42419    4.95689                  4.96   \n",
       "2  31553121                 f  52.43237    4.91821                  4.74   \n",
       "3  34745823                 f  52.29620    5.01231                  4.87   \n",
       "4  44586947                 t  52.31475    5.03030                  5.00   \n",
       "\n",
       "                   geometry  \n",
       "0  POINT (4.97879 52.34916)  \n",
       "1  POINT (4.95689 52.42419)  \n",
       "2  POINT (4.91821 52.43237)  \n",
       "3  POINT (5.01231 52.29620)  \n",
       "4  POINT (5.03030 52.31475)  "
      ]
     },
     "execution_count": 3,
     "metadata": {},
     "output_type": "execute_result"
    }
   ],
   "source": [
    "#read in listings and cast to geopandas\n",
    "listings_df=pd.concat([pd.read_csv(listings_csv, header=0, usecols=listings_columns) for listings_csv in listings_csvs], axis=0, ignore_index=True)\n",
    "listings_gdf=gpd.GeoDataFrame(listings_df, geometry=gpd.points_from_xy(listings_df.longitude, listings_df.latitude))\n",
    "listings_gdf.crs = {'init': 'epsg:4326'}\n",
    "listings_gdf.head()"
   ]
  },
  {
   "cell_type": "code",
   "execution_count": 4,
   "id": "fad24087-fa3c-471a-9a65-5ace2d75c967",
   "metadata": {},
   "outputs": [
    {
     "name": "stdout",
     "output_type": "stream",
     "text": [
      "True\n",
      "False\n",
      "True\n",
      "False\n",
      "False\n",
      "True\n"
     ]
    }
   ],
   "source": [
    "#any missing data?\n",
    "print(listings_df.isnull().values.any())\n",
    "print(listings_df['id'].isnull().values.any())\n",
    "print(listings_df['host_is_superhost'].isnull().values.any())\n",
    "print(listings_df['latitude'].isnull().values.any())\n",
    "print(listings_df['longitude'].isnull().values.any())\n",
    "print(listings_df['review_scores_rating'].isnull().values.any())"
   ]
  },
  {
   "cell_type": "code",
   "execution_count": 5,
   "id": "248c0fd7-9beb-4f9a-bfde-c213b299a0a8",
   "metadata": {
    "tags": []
   },
   "outputs": [
    {
     "name": "stdout",
     "output_type": "stream",
     "text": [
      "918\n",
      "280259\n",
      "1242365\n"
     ]
    }
   ],
   "source": [
    "#how much data is missing\n",
    "print(sum(listings_df['host_is_superhost'].isnull().values))\n",
    "print(sum(listings_df['review_scores_rating'].isnull().values))\n",
    "print(len(listings_df))"
   ]
  },
  {
   "cell_type": "markdown",
   "id": "97d6d69e-eb4c-4e70-bc1a-1921458f4585",
   "metadata": {},
   "source": [
    "<h4/>There are alot of missing values, especially for the reviews score, ~23% listings do not have reviews. This maybe due to the fact that listings are new, and people hardly leave ratings after bookings, unless it delivers them a strong experience. For now, we will leave all of the missing values out, as we will see later, it does not affect our evaluation."
   ]
  },
  {
   "cell_type": "code",
   "execution_count": 6,
   "id": "45e2f4dc-f251-46d8-9f01-da94da2a2c16",
   "metadata": {},
   "outputs": [
    {
     "name": "stdout",
     "output_type": "stream",
     "text": [
      "0\n",
      "0\n"
     ]
    }
   ],
   "source": [
    "#clean data\n",
    "listings_df = listings_df[~listings_df['host_is_superhost'].isnull()]\n",
    "print(sum(listings_df['host_is_superhost'].isnull().values))\n",
    "listings_df = listings_df[~listings_df['review_scores_rating'].isnull()]\n",
    "print(sum(listings_df['review_scores_rating'].isnull().values))"
   ]
  },
  {
   "cell_type": "code",
   "execution_count": 7,
   "id": "781ae959-153d-4bc5-b93b-85c9b9265f0c",
   "metadata": {
    "tags": []
   },
   "outputs": [
    {
     "data": {
      "text/html": [
       "<div>\n",
       "<style scoped>\n",
       "    .dataframe tbody tr th:only-of-type {\n",
       "        vertical-align: middle;\n",
       "    }\n",
       "\n",
       "    .dataframe tbody tr th {\n",
       "        vertical-align: top;\n",
       "    }\n",
       "\n",
       "    .dataframe thead th {\n",
       "        text-align: right;\n",
       "    }\n",
       "</style>\n",
       "<table border=\"1\" class=\"dataframe\">\n",
       "  <thead>\n",
       "    <tr style=\"text-align: right;\">\n",
       "      <th></th>\n",
       "      <th>listing_id</th>\n",
       "      <th>listing_id_count</th>\n",
       "      <th>price_median</th>\n",
       "    </tr>\n",
       "  </thead>\n",
       "  <tbody>\n",
       "    <tr>\n",
       "      <th>0</th>\n",
       "      <td>2818</td>\n",
       "      <td>289</td>\n",
       "      <td>78.0</td>\n",
       "    </tr>\n",
       "    <tr>\n",
       "      <th>1</th>\n",
       "      <td>20168</td>\n",
       "      <td>365</td>\n",
       "      <td>100.0</td>\n",
       "    </tr>\n",
       "    <tr>\n",
       "      <th>2</th>\n",
       "      <td>27886</td>\n",
       "      <td>365</td>\n",
       "      <td>125.0</td>\n",
       "    </tr>\n",
       "    <tr>\n",
       "      <th>3</th>\n",
       "      <td>28871</td>\n",
       "      <td>209</td>\n",
       "      <td>75.0</td>\n",
       "    </tr>\n",
       "    <tr>\n",
       "      <th>4</th>\n",
       "      <td>29051</td>\n",
       "      <td>224</td>\n",
       "      <td>55.0</td>\n",
       "    </tr>\n",
       "  </tbody>\n",
       "</table>\n",
       "</div>"
      ],
      "text/plain": [
       "   listing_id  listing_id_count  price_median\n",
       "0        2818               289          78.0\n",
       "1       20168               365         100.0\n",
       "2       27886               365         125.0\n",
       "3       28871               209          75.0\n",
       "4       29051               224          55.0"
      ]
     },
     "execution_count": 7,
     "metadata": {},
     "output_type": "execute_result"
    }
   ],
   "source": [
    "#read in and groupby calendars(calendars too big to read all in)\n",
    "calendar_groupby_df=pd.DataFrame()\n",
    "for calendar_csv in calendar_csvs:\n",
    "    temp_calendar_df = pd.read_csv(calendar_csv, header=0, usecols=calendar_columns)\n",
    "    temp_calendar_df = temp_calendar_df[temp_calendar_df['available']== 'f']\n",
    "    temp_calendar_df.drop(columns='available', inplace=True)\n",
    "    temp_calendar_df['price'] = temp_calendar_df['price'].replace('[\\$,]', '', regex=True).astype(float)\n",
    "    temp_calendar_df = temp_calendar_df.drop(columns='date').groupby('listing_id').agg({'listing_id':'count', 'price':'median'})\n",
    "    temp_calendar_df.rename(columns={'listing_id':'listing_id_count', 'price':'price_median'}, inplace=True)\n",
    "    temp_calendar_df.reset_index(inplace=True)\n",
    "    calendar_groupby_df = pd.concat([calendar_groupby_df, temp_calendar_df], axis=0, ignore_index=True)\n",
    "calendar_groupby_df.head()"
   ]
  },
  {
   "cell_type": "code",
   "execution_count": 20,
   "id": "35a1ddf7-f105-4d72-ab46-6889be436a20",
   "metadata": {
    "tags": []
   },
   "outputs": [
    {
     "name": "stdout",
     "output_type": "stream",
     "text": [
      "True\n",
      "False\n",
      "False\n",
      "True\n"
     ]
    }
   ],
   "source": [
    "#any missing data?\n",
    "print(calendar_groupby_df.isnull().values.any())\n",
    "print(calendar_groupby_df['listing_id'].isnull().values.any())\n",
    "print(calendar_groupby_df['listing_id_count'].isnull().values.any())\n",
    "print(calendar_groupby_df['price_median'].isnull().values.any())"
   ]
  },
  {
   "cell_type": "code",
   "execution_count": 21,
   "id": "fbad0d51-6751-4184-bee1-708166db01db",
   "metadata": {},
   "outputs": [
    {
     "name": "stdout",
     "output_type": "stream",
     "text": [
      "0\n",
      "0\n",
      "8\n",
      "1187251\n"
     ]
    }
   ],
   "source": [
    "#how much data is missing\n",
    "print(sum(calendar_groupby_df['listing_id'].isnull().values))\n",
    "print(sum(calendar_groupby_df['listing_id_count'].isnull().values))\n",
    "print(sum(calendar_groupby_df['price_median'].isnull().values))\n",
    "print(len(calendar_groupby_df))"
   ]
  },
  {
   "cell_type": "markdown",
   "id": "0cef1ba2-61ed-487e-89ef-2a33942986ff",
   "metadata": {
    "tags": []
   },
   "source": [
    "<h4/>Not sure why those prices are missing, but only 8 out of 1187251 are missing so leaving them out does not change anything"
   ]
  },
  {
   "cell_type": "code",
   "execution_count": 13,
   "id": "d968fdeb-5098-4355-b420-66a1d2597020",
   "metadata": {},
   "outputs": [
    {
     "name": "stdout",
     "output_type": "stream",
     "text": [
      "0\n"
     ]
    }
   ],
   "source": [
    "#clean data\n",
    "calendar_groupby_df = calendar_groupby_df[~calendar_groupby_df['price_median'].isnull()]\n",
    "print(sum(calendar_groupby_df['price_median'].isnull().values))"
   ]
  },
  {
   "cell_type": "code",
   "execution_count": 14,
   "id": "fb2123cc-2165-417d-be57-7ddab6fa4035",
   "metadata": {},
   "outputs": [
    {
     "name": "stderr",
     "output_type": "stream",
     "text": [
      "C:\\Users\\quynhvt5\\AppData\\Roaming\\Python\\Python310\\site-packages\\geopandas\\geodataframe.py:35: ShapelyDeprecationWarning: The array interface is deprecated and will no longer work in Shapely 2.0. Convert the '.coords' to a numpy array instead.\n",
      "  out = from_shapely(data)\n"
     ]
    },
    {
     "data": {
      "text/html": [
       "<div>\n",
       "<style scoped>\n",
       "    .dataframe tbody tr th:only-of-type {\n",
       "        vertical-align: middle;\n",
       "    }\n",
       "\n",
       "    .dataframe tbody tr th {\n",
       "        vertical-align: top;\n",
       "    }\n",
       "\n",
       "    .dataframe thead th {\n",
       "        text-align: right;\n",
       "    }\n",
       "</style>\n",
       "<table border=\"1\" class=\"dataframe\">\n",
       "  <thead>\n",
       "    <tr style=\"text-align: right;\">\n",
       "      <th></th>\n",
       "      <th>id</th>\n",
       "      <th>host_is_superhost</th>\n",
       "      <th>latitude</th>\n",
       "      <th>longitude</th>\n",
       "      <th>review_scores_rating</th>\n",
       "      <th>geometry</th>\n",
       "      <th>listing_id</th>\n",
       "      <th>listing_id_count</th>\n",
       "      <th>price_median</th>\n",
       "    </tr>\n",
       "  </thead>\n",
       "  <tbody>\n",
       "    <tr>\n",
       "      <th>0</th>\n",
       "      <td>23726706</td>\n",
       "      <td>f</td>\n",
       "      <td>52.34916</td>\n",
       "      <td>4.97879</td>\n",
       "      <td>4.99</td>\n",
       "      <td>POINT (4.97879 52.34916)</td>\n",
       "      <td>23726706</td>\n",
       "      <td>299</td>\n",
       "      <td>104.0</td>\n",
       "    </tr>\n",
       "    <tr>\n",
       "      <th>1</th>\n",
       "      <td>35815036</td>\n",
       "      <td>t</td>\n",
       "      <td>52.42419</td>\n",
       "      <td>4.95689</td>\n",
       "      <td>4.96</td>\n",
       "      <td>POINT (4.95689 52.42419)</td>\n",
       "      <td>35815036</td>\n",
       "      <td>122</td>\n",
       "      <td>105.0</td>\n",
       "    </tr>\n",
       "    <tr>\n",
       "      <th>2</th>\n",
       "      <td>31553121</td>\n",
       "      <td>f</td>\n",
       "      <td>52.43237</td>\n",
       "      <td>4.91821</td>\n",
       "      <td>4.74</td>\n",
       "      <td>POINT (4.91821 52.43237)</td>\n",
       "      <td>31553121</td>\n",
       "      <td>362</td>\n",
       "      <td>155.0</td>\n",
       "    </tr>\n",
       "    <tr>\n",
       "      <th>3</th>\n",
       "      <td>34745823</td>\n",
       "      <td>f</td>\n",
       "      <td>52.29620</td>\n",
       "      <td>5.01231</td>\n",
       "      <td>4.87</td>\n",
       "      <td>POINT (5.01231 52.29620)</td>\n",
       "      <td>34745823</td>\n",
       "      <td>75</td>\n",
       "      <td>87.0</td>\n",
       "    </tr>\n",
       "    <tr>\n",
       "      <th>4</th>\n",
       "      <td>44586947</td>\n",
       "      <td>t</td>\n",
       "      <td>52.31475</td>\n",
       "      <td>5.03030</td>\n",
       "      <td>5.00</td>\n",
       "      <td>POINT (5.03030 52.31475)</td>\n",
       "      <td>44586947</td>\n",
       "      <td>213</td>\n",
       "      <td>160.0</td>\n",
       "    </tr>\n",
       "  </tbody>\n",
       "</table>\n",
       "</div>"
      ],
      "text/plain": [
       "         id host_is_superhost  latitude  longitude  review_scores_rating  \\\n",
       "0  23726706                 f  52.34916    4.97879                  4.99   \n",
       "1  35815036                 t  52.42419    4.95689                  4.96   \n",
       "2  31553121                 f  52.43237    4.91821                  4.74   \n",
       "3  34745823                 f  52.29620    5.01231                  4.87   \n",
       "4  44586947                 t  52.31475    5.03030                  5.00   \n",
       "\n",
       "                   geometry  listing_id  listing_id_count  price_median  \n",
       "0  POINT (4.97879 52.34916)    23726706               299         104.0  \n",
       "1  POINT (4.95689 52.42419)    35815036               122         105.0  \n",
       "2  POINT (4.91821 52.43237)    31553121               362         155.0  \n",
       "3  POINT (5.01231 52.29620)    34745823                75          87.0  \n",
       "4  POINT (5.03030 52.31475)    44586947               213         160.0  "
      ]
     },
     "execution_count": 14,
     "metadata": {},
     "output_type": "execute_result"
    }
   ],
   "source": [
    "#cast pandas to geopandas\n",
    "temp_calendar_df = listings_df.merge(calendar_groupby_df, left_on='id', right_on='listing_id')\n",
    "temp_calendar_gdf=gpd.GeoDataFrame(temp_calendar_df, geometry=gpd.points_from_xy(temp_calendar_df.longitude, temp_calendar_df.latitude))\n",
    "temp_calendar_gdf.crs = {'init': 'epsg:4326'}\n",
    "temp_calendar_gdf.head()"
   ]
  },
  {
   "cell_type": "markdown",
   "id": "abc85927-767f-43ac-81aa-2f46818fde3a",
   "metadata": {},
   "source": [
    "<h1/>Evaluate the Results"
   ]
  },
  {
   "cell_type": "code",
   "execution_count": 15,
   "id": "9eba2ee4-7b65-4b89-b94d-c97a48a91bd3",
   "metadata": {},
   "outputs": [
    {
     "data": {
      "text/plain": [
       "<AxesSubplot:xlabel='host_is_superhost', ylabel='review_scores_rating'>"
      ]
     },
     "execution_count": 15,
     "metadata": {},
     "output_type": "execute_result"
    },
    {
     "data": {
      "image/png": "[encoded data removed]",
      "text/plain": [
       "<Figure size 1080x360 with 3 Axes>"
      ]
     },
     "metadata": {
      "needs_background": "light"
     },
     "output_type": "display_data"
    }
   ],
   "source": [
    "#plot review scores per whether superhost-listing\n",
    "fig, axs = plt.subplots(1, 3, figsize=(15, 5))\n",
    "sns.boxplot(x=\"host_is_superhost\", y=\"review_scores_rating\", data=temp_calendar_df, ax=axs[0])\n",
    "sns.boxenplot(x=\"host_is_superhost\", y=\"review_scores_rating\", data=temp_calendar_df, ax=axs[1])\n",
    "sns.violinplot(x=\"host_is_superhost\", y=\"review_scores_rating\", data=temp_calendar_df, ax=axs[2])"
   ]
  },
  {
   "cell_type": "code",
   "execution_count": 16,
   "id": "ae296878-4038-4e9a-a44f-207d3f3bd930",
   "metadata": {},
   "outputs": [
    {
     "data": {
      "text/plain": [
       "<AxesSubplot:xlabel='host_is_superhost', ylabel='listing_id_count'>"
      ]
     },
     "execution_count": 16,
     "metadata": {},
     "output_type": "execute_result"
    },
    {
     "data": {
      "image/png": "[encoded data removed]",
      "text/plain": [
       "<Figure size 1080x360 with 3 Axes>"
      ]
     },
     "metadata": {
      "needs_background": "light"
     },
     "output_type": "display_data"
    }
   ],
   "source": [
    "#plot booking count per whether superhost-listing\n",
    "fig, axs = plt.subplots(1, 3, figsize=(15, 5))\n",
    "sns.boxplot(x=\"host_is_superhost\", y=\"listing_id_count\", data=temp_calendar_df, ax=axs[0])\n",
    "sns.boxenplot(x=\"host_is_superhost\", y=\"listing_id_count\", data=temp_calendar_df, ax=axs[1])\n",
    "sns.violinplot(x=\"host_is_superhost\", y=\"listing_id_count\", data=temp_calendar_df, ax=axs[2])"
   ]
  },
  {
   "cell_type": "code",
   "execution_count": 17,
   "id": "1c85f59d-9d00-461e-918f-dd2bc398ef66",
   "metadata": {},
   "outputs": [
    {
     "data": {
      "text/plain": [
       "<AxesSubplot:xlabel='host_is_superhost', ylabel='price_median'>"
      ]
     },
     "execution_count": 17,
     "metadata": {},
     "output_type": "execute_result"
    },
    {
     "data": {
      "image/png": "[encoded data removed]",
      "text/plain": [
       "<Figure size 1080x360 with 3 Axes>"
      ]
     },
     "metadata": {
      "needs_background": "light"
     },
     "output_type": "display_data"
    }
   ],
   "source": [
    "#plot price median per whether superhost-listing\n",
    "fig, axs = plt.subplots(1, 3, figsize=(15, 5))\n",
    "sns.boxplot(x=\"host_is_superhost\", y=\"price_median\", data=temp_calendar_df, ax=axs[0])\n",
    "sns.boxenplot(x=\"host_is_superhost\", y=\"price_median\", data=temp_calendar_df, ax=axs[1])\n",
    "sns.violinplot(x=\"host_is_superhost\", y=\"price_median\", data=temp_calendar_df, ax=axs[2])"
   ]
  },
  {
   "cell_type": "code",
   "execution_count": 18,
   "id": "d7b1cedb-004d-40c2-8641-63b20a5c5d7a",
   "metadata": {},
   "outputs": [
    {
     "data": {
      "text/plain": [
       "<AxesSubplot:xlabel='host_is_superhost', ylabel='price_median'>"
      ]
     },
     "execution_count": 18,
     "metadata": {},
     "output_type": "execute_result"
    },
    {
     "data": {
      "image/png": "[encoded data removed]",
      "text/plain": [
       "<Figure size 1080x360 with 3 Axes>"
      ]
     },
     "metadata": {
      "needs_background": "light"
     },
     "output_type": "display_data"
    }
   ],
   "source": [
    "#plot truncated price median per whether superhost-listing\n",
    "fig, axs = plt.subplots(1, 3, figsize=(15, 5))\n",
    "sns.boxplot(x=\"host_is_superhost\", y=\"price_median\", data=temp_calendar_df[temp_calendar_df['price_median'] < 500], ax=axs[0])\n",
    "sns.boxenplot(x=\"host_is_superhost\", y=\"price_median\", data=temp_calendar_df[temp_calendar_df['price_median'] < 500], ax=axs[1])\n",
    "sns.violinplot(x=\"host_is_superhost\", y=\"price_median\", data=temp_calendar_df[temp_calendar_df['price_median'] < 500], ax=axs[2])"
   ]
  },
  {
   "cell_type": "code",
   "execution_count": null,
   "id": "9b5d0c1b-398b-4027-9305-6962a299c063",
   "metadata": {},
   "outputs": [],
   "source": []
  }
 ],
 "metadata": {
  "kernelspec": {
   "display_name": "Python 3 (ipykernel)",
   "language": "python",
   "name": "python3"
  },
  "language_info": {
   "codemirror_mode": {
    "name": "ipython",
    "version": 3
   },
   "file_extension": ".py",
   "mimetype": "text/x-python",
   "name": "python",
   "nbconvert_exporter": "python",
   "pygments_lexer": "ipython3",
   "version": "3.10.0"
  }
 },
 "nbformat": 4,
 "nbformat_minor": 5
}
