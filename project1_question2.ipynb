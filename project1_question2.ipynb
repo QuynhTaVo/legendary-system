{
 "cells": [
  {
   "cell_type": "code",
   "execution_count": 2,
   "id": "455597fb-09c0-45a3-90a9-76aeaa5e0d5d",
   "metadata": {},
   "outputs": [],
   "source": [
    "import os, glob\n",
    "import pandas as pd\n",
    "import geopandas as gpd\n",
    "import numpy as np\n",
    "import folium\n",
    "from folium.plugins import HeatMap\n",
    "import matplotlib.pyplot as plt\n",
    "import seaborn as sns"
   ]
  },
  {
   "cell_type": "markdown",
   "id": "128ddc7b-0edb-465a-9293-deec0535e497",
   "metadata": {},
   "source": [
    "Question: When should I visit a certain city?"
   ]
  },
  {
   "cell_type": "markdown",
   "id": "1d57ea74-aad0-4157-97f2-d353bf0f3ab2",
   "metadata": {},
   "source": [
    "<h1/>Prepare Data"
   ]
  },
  {
   "cell_type": "code",
   "execution_count": 3,
   "id": "461e3efb-de95-4349-9bf5-5e397eb65f57",
   "metadata": {},
   "outputs": [],
   "source": [
    "#parameters setup\n",
    "local_folder='C:\\\\Users\\\\quynhvt5\\\\Documents\\\\airbnb\\\\'\n",
    "listings_csvs=glob.glob(os.path.join(local_folder, '*_listings.csv'))\n",
    "listings_columns=['id', 'host_is_superhost', 'latitude', 'longitude', 'review_scores_rating']\n",
    "calendar_csvs=glob.glob(os.path.join(local_folder, '*_calendar.csv'))\n",
    "calendar_columns=['listing_id', 'date', 'available', 'price']"
   ]
  },
  {
   "cell_type": "code",
   "execution_count": 4,
   "id": "22c94774-0729-48af-9317-378267a37333",
   "metadata": {},
   "outputs": [
    {
     "data": {
      "text/html": [
       "<div>\n",
       "<style scoped>\n",
       "    .dataframe tbody tr th:only-of-type {\n",
       "        vertical-align: middle;\n",
       "    }\n",
       "\n",
       "    .dataframe tbody tr th {\n",
       "        vertical-align: top;\n",
       "    }\n",
       "\n",
       "    .dataframe thead th {\n",
       "        text-align: right;\n",
       "    }\n",
       "</style>\n",
       "<table border=\"1\" class=\"dataframe\">\n",
       "  <thead>\n",
       "    <tr style=\"text-align: right;\">\n",
       "      <th></th>\n",
       "      <th>listing_id</th>\n",
       "      <th>date</th>\n",
       "      <th>price</th>\n",
       "    </tr>\n",
       "  </thead>\n",
       "  <tbody>\n",
       "    <tr>\n",
       "      <th>0</th>\n",
       "      <td>13655518</td>\n",
       "      <td>2022-03-20</td>\n",
       "      <td>180.0</td>\n",
       "    </tr>\n",
       "    <tr>\n",
       "      <th>1</th>\n",
       "      <td>13655518</td>\n",
       "      <td>2022-03-21</td>\n",
       "      <td>180.0</td>\n",
       "    </tr>\n",
       "    <tr>\n",
       "      <th>2</th>\n",
       "      <td>13655518</td>\n",
       "      <td>2022-03-22</td>\n",
       "      <td>180.0</td>\n",
       "    </tr>\n",
       "    <tr>\n",
       "      <th>3</th>\n",
       "      <td>13655518</td>\n",
       "      <td>2022-03-23</td>\n",
       "      <td>180.0</td>\n",
       "    </tr>\n",
       "    <tr>\n",
       "      <th>4</th>\n",
       "      <td>13655518</td>\n",
       "      <td>2022-03-24</td>\n",
       "      <td>180.0</td>\n",
       "    </tr>\n",
       "  </tbody>\n",
       "</table>\n",
       "</div>"
      ],
      "text/plain": [
       "   listing_id       date  price\n",
       "0    13655518 2022-03-20  180.0\n",
       "1    13655518 2022-03-21  180.0\n",
       "2    13655518 2022-03-22  180.0\n",
       "3    13655518 2022-03-23  180.0\n",
       "4    13655518 2022-03-24  180.0"
      ]
     },
     "execution_count": 4,
     "metadata": {},
     "output_type": "execute_result"
    }
   ],
   "source": [
    "#read in a single calendar\n",
    "city_calendar_csv=local_folder+'Boston_calendar.csv'\n",
    "city_calendar_iterator=pd.read_csv(city_calendar_csv, header=0, usecols=calendar_columns, iterator=True, chunksize=1000)\n",
    "city_calendar_df=pd.concat([chunk[chunk['available']== 'f'] for chunk in city_calendar_iterator], axis=0, ignore_index=True)\n",
    "city_calendar_df.drop(columns='available', inplace=True)\n",
    "city_calendar_df['date'] = pd.to_datetime(city_calendar_df['date'], format='%Y-%m-%d')\n",
    "city_calendar_df['price'] = city_calendar_df['price'].replace('[\\$,]', '', regex=True).astype(float)\n",
    "city_calendar_df.head()"
   ]
  },
  {
   "cell_type": "code",
   "execution_count": 5,
   "id": "e870fb11-9afb-415a-824e-42f2fd8a52af",
   "metadata": {},
   "outputs": [
    {
     "name": "stdout",
     "output_type": "stream",
     "text": [
      "False\n",
      "False\n",
      "False\n",
      "False\n"
     ]
    }
   ],
   "source": [
    "#any missing data?\n",
    "print(city_calendar_df.isnull().values.any())\n",
    "print(city_calendar_df['listing_id'].isnull().values.any())\n",
    "print(city_calendar_df['date'].isnull().values.any())\n",
    "print(city_calendar_df['price'].isnull().values.any())"
   ]
  },
  {
   "cell_type": "markdown",
   "id": "2438c263-88e8-4865-b508-9170d788729f",
   "metadata": {},
   "source": [
    "<h4/>Great! There is no missing data here."
   ]
  },
  {
   "cell_type": "code",
   "execution_count": 30,
   "id": "edf3072b-6abf-4f32-a650-a1310de6ed46",
   "metadata": {},
   "outputs": [
    {
     "data": {
      "text/html": [
       "<div>\n",
       "<style scoped>\n",
       "    .dataframe tbody tr th:only-of-type {\n",
       "        vertical-align: middle;\n",
       "    }\n",
       "\n",
       "    .dataframe tbody tr th {\n",
       "        vertical-align: top;\n",
       "    }\n",
       "\n",
       "    .dataframe thead th {\n",
       "        text-align: right;\n",
       "    }\n",
       "</style>\n",
       "<table border=\"1\" class=\"dataframe\">\n",
       "  <thead>\n",
       "    <tr style=\"text-align: right;\">\n",
       "      <th></th>\n",
       "      <th>date</th>\n",
       "      <th>listing_id_count</th>\n",
       "      <th>price_median</th>\n",
       "    </tr>\n",
       "  </thead>\n",
       "  <tbody>\n",
       "    <tr>\n",
       "      <th>0</th>\n",
       "      <td>2022-03-20</td>\n",
       "      <td>2720</td>\n",
       "      <td>128.5</td>\n",
       "    </tr>\n",
       "    <tr>\n",
       "      <th>1</th>\n",
       "      <td>2022-03-21</td>\n",
       "      <td>2463</td>\n",
       "      <td>125.0</td>\n",
       "    </tr>\n",
       "    <tr>\n",
       "      <th>2</th>\n",
       "      <td>2022-03-22</td>\n",
       "      <td>2488</td>\n",
       "      <td>129.0</td>\n",
       "    </tr>\n",
       "    <tr>\n",
       "      <th>3</th>\n",
       "      <td>2022-03-23</td>\n",
       "      <td>2443</td>\n",
       "      <td>130.0</td>\n",
       "    </tr>\n",
       "    <tr>\n",
       "      <th>4</th>\n",
       "      <td>2022-03-24</td>\n",
       "      <td>2672</td>\n",
       "      <td>140.0</td>\n",
       "    </tr>\n",
       "  </tbody>\n",
       "</table>\n",
       "</div>"
      ],
      "text/plain": [
       "        date  listing_id_count  price_median\n",
       "0 2022-03-20              2720         128.5\n",
       "1 2022-03-21              2463         125.0\n",
       "2 2022-03-22              2488         129.0\n",
       "3 2022-03-23              2443         130.0\n",
       "4 2022-03-24              2672         140.0"
      ]
     },
     "execution_count": 30,
     "metadata": {},
     "output_type": "execute_result"
    }
   ],
   "source": [
    "#groupby the calendar\n",
    "temp_city_calendar_df = city_calendar_df.groupby('date').agg({'listing_id':'count', 'price':'median'})\n",
    "temp_city_calendar_df.rename(columns={'listing_id':'listing_id_count', 'price':'price_median'}, inplace=True)\n",
    "temp_city_calendar_df.reset_index(inplace=True)\n",
    "temp_city_calendar_df.head()"
   ]
  },
  {
   "cell_type": "markdown",
   "id": "9000f517-04a3-4cc1-af3b-5f782879475f",
   "metadata": {},
   "source": [
    "<h1/>Evaluate the Results"
   ]
  },
  {
   "cell_type": "code",
   "execution_count": null,
   "id": "68d3843c-dbc8-46e8-92bb-860f1410aae5",
   "metadata": {},
   "outputs": [
    {
     "data": {
      "text/plain": [
       "Text(0, 0.5, 'Total booking per date')"
      ]
     },
     "execution_count": 33,
     "metadata": {},
     "output_type": "execute_result"
    },
    {
     "data": {
      "image/png": "[encoded data removed]",
      "text/plain": [
       "<Figure size 720x432 with 1 Axes>"
      ]
     },
     "metadata": {
      "needs_background": "light"
     },
     "output_type": "display_data"
    }
   ],
   "source": [
    "#plot total booking by date\n",
    "plt.figure(figsize=(10,6))\n",
    "plt.title('Total booking by date')\n",
    "sns.barplot(x=temp_city_calendar_df.date, y=temp_city_calendar_df.listing_id_count)\n",
    "plt.ylabel('Total booking per date')"
   ]
  },
  {
   "cell_type": "code",
   "execution_count": 7,
   "id": "f1485b8f-02ca-45bb-8f1d-483ba8089524",
   "metadata": {},
   "outputs": [
    {
     "data": {
      "text/plain": [
       "Text(0, 0.5, 'Median price per date')"
      ]
     },
     "execution_count": 7,
     "metadata": {},
     "output_type": "execute_result"
    },
    {
     "data": {
      "image/png": "[encoded data removed]",
      "text/plain": [
       "<Figure size 720x432 with 1 Axes>"
      ]
     },
     "metadata": {
      "needs_background": "light"
     },
     "output_type": "display_data"
    }
   ],
   "source": [
    "#plot median price by date\n",
    "plt.figure(figsize=(10,6))\n",
    "plt.title('Median price by date')\n",
    "sns.barplot(x=temp_city_calendar_df.date, y=temp_city_calendar_df.price_median)\n",
    "plt.ylabel('Median price per date')"
   ]
  },
  {
   "cell_type": "code",
   "execution_count": null,
   "id": "4b3e90e8-1b03-4508-8d4b-c08273c97446",
   "metadata": {},
   "outputs": [],
   "source": []
  }
 ],
 "metadata": {
  "kernelspec": {
   "display_name": "Python 3 (ipykernel)",
   "language": "python",
   "name": "python3"
  },
  "language_info": {
   "codemirror_mode": {
    "name": "ipython",
    "version": 3
   },
   "file_extension": ".py",
   "mimetype": "text/x-python",
   "name": "python",
   "nbconvert_exporter": "python",
   "pygments_lexer": "ipython3",
   "version": "3.10.0"
  }
 },
 "nbformat": 4,
 "nbformat_minor": 5
}
