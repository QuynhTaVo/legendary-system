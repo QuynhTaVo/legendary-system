{
 "cells": [
  {
   "cell_type": "code",
   "execution_count": 1,
   "id": "455597fb-09c0-45a3-90a9-76aeaa5e0d5d",
   "metadata": {},
   "outputs": [],
   "source": [
    "import os, glob\n",
    "import pandas as pd\n",
    "import geopandas as gpd\n",
    "import numpy as np\n",
    "import folium\n",
    "from folium.plugins import HeatMap\n",
    "import matplotlib.pyplot as plt\n",
    "import seaborn as sns"
   ]
  },
  {
   "cell_type": "code",
   "execution_count": 2,
   "id": "7a284149-bcb9-455a-bd75-94dfa41a6183",
   "metadata": {},
   "outputs": [],
   "source": [
    "#parameters setup\n",
    "local_folder='C:\\\\Users\\\\quynhvt5\\\\Documents\\\\airbnb\\\\'\n",
    "listings_csvs=glob.glob(os.path.join(local_folder, '*_listings.csv'))\n",
    "listings_columns=['id', 'host_is_superhost', 'latitude', 'longitude', 'review_scores_rating']\n",
    "calendar_csvs=glob.glob(os.path.join(local_folder, '*_calendar.csv'))\n",
    "calendar_columns=['listing_id', 'date', 'available', 'price']"
   ]
  },
  {
   "cell_type": "markdown",
   "id": "091aa060-c0a8-4700-b2de-29082a3670b7",
   "metadata": {},
   "source": [
    "Question: Which area is most attractive towards travellers?(Which geographic area has most of the listings? Most of the bookings? What about price, reviews?)"
   ]
  },
  {
   "cell_type": "code",
   "execution_count": 3,
   "id": "8f833f0c-0e54-4ddd-9563-69d2b4fd2e3b",
   "metadata": {
    "tags": []
   },
   "outputs": [
    {
     "name": "stderr",
     "output_type": "stream",
     "text": [
      "C:\\Users\\quynhvt5\\AppData\\Roaming\\Python\\Python310\\site-packages\\geopandas\\geodataframe.py:35: ShapelyDeprecationWarning: The array interface is deprecated and will no longer work in Shapely 2.0. Convert the '.coords' to a numpy array instead.\n",
      "  out = from_shapely(data)\n"
     ]
    },
    {
     "data": {
      "text/html": [
       "<div>\n",
       "<style scoped>\n",
       "    .dataframe tbody tr th:only-of-type {\n",
       "        vertical-align: middle;\n",
       "    }\n",
       "\n",
       "    .dataframe tbody tr th {\n",
       "        vertical-align: top;\n",
       "    }\n",
       "\n",
       "    .dataframe thead th {\n",
       "        text-align: right;\n",
       "    }\n",
       "</style>\n",
       "<table border=\"1\" class=\"dataframe\">\n",
       "  <thead>\n",
       "    <tr style=\"text-align: right;\">\n",
       "      <th></th>\n",
       "      <th>id</th>\n",
       "      <th>host_is_superhost</th>\n",
       "      <th>latitude</th>\n",
       "      <th>longitude</th>\n",
       "      <th>review_scores_rating</th>\n",
       "      <th>geometry</th>\n",
       "    </tr>\n",
       "  </thead>\n",
       "  <tbody>\n",
       "    <tr>\n",
       "      <th>0</th>\n",
       "      <td>23726706</td>\n",
       "      <td>f</td>\n",
       "      <td>52.34916</td>\n",
       "      <td>4.97879</td>\n",
       "      <td>4.99</td>\n",
       "      <td>POINT (4.97879 52.34916)</td>\n",
       "    </tr>\n",
       "    <tr>\n",
       "      <th>1</th>\n",
       "      <td>35815036</td>\n",
       "      <td>t</td>\n",
       "      <td>52.42419</td>\n",
       "      <td>4.95689</td>\n",
       "      <td>4.96</td>\n",
       "      <td>POINT (4.95689 52.42419)</td>\n",
       "    </tr>\n",
       "    <tr>\n",
       "      <th>2</th>\n",
       "      <td>31553121</td>\n",
       "      <td>f</td>\n",
       "      <td>52.43237</td>\n",
       "      <td>4.91821</td>\n",
       "      <td>4.74</td>\n",
       "      <td>POINT (4.91821 52.43237)</td>\n",
       "    </tr>\n",
       "    <tr>\n",
       "      <th>3</th>\n",
       "      <td>34745823</td>\n",
       "      <td>f</td>\n",
       "      <td>52.29620</td>\n",
       "      <td>5.01231</td>\n",
       "      <td>4.87</td>\n",
       "      <td>POINT (5.01231 52.29620)</td>\n",
       "    </tr>\n",
       "    <tr>\n",
       "      <th>4</th>\n",
       "      <td>44586947</td>\n",
       "      <td>t</td>\n",
       "      <td>52.31475</td>\n",
       "      <td>5.03030</td>\n",
       "      <td>5.00</td>\n",
       "      <td>POINT (5.03030 52.31475)</td>\n",
       "    </tr>\n",
       "  </tbody>\n",
       "</table>\n",
       "</div>"
      ],
      "text/plain": [
       "         id host_is_superhost  latitude  longitude  review_scores_rating  \\\n",
       "0  23726706                 f  52.34916    4.97879                  4.99   \n",
       "1  35815036                 t  52.42419    4.95689                  4.96   \n",
       "2  31553121                 f  52.43237    4.91821                  4.74   \n",
       "3  34745823                 f  52.29620    5.01231                  4.87   \n",
       "4  44586947                 t  52.31475    5.03030                  5.00   \n",
       "\n",
       "                   geometry  \n",
       "0  POINT (4.97879 52.34916)  \n",
       "1  POINT (4.95689 52.42419)  \n",
       "2  POINT (4.91821 52.43237)  \n",
       "3  POINT (5.01231 52.29620)  \n",
       "4  POINT (5.03030 52.31475)  "
      ]
     },
     "execution_count": 3,
     "metadata": {},
     "output_type": "execute_result"
    }
   ],
   "source": [
    "#read in listings and cast to geopandas\n",
    "listings_df=pd.concat([pd.read_csv(listings_csv, header=0, usecols=listings_columns) for listings_csv in listings_csvs], axis=0, ignore_index=True)\n",
    "listings_gdf=gpd.GeoDataFrame(listings_df, geometry=gpd.points_from_xy(listings_df.longitude, listings_df.latitude))\n",
    "listings_gdf.crs = {'init': 'epsg:4326'}\n",
    "listings_gdf.head()"
   ]
  },
  {
   "cell_type": "code",
   "execution_count": null,
   "id": "67e29806-bc4b-4940-a66a-688ed5de82e1",
   "metadata": {},
   "outputs": [],
   "source": [
    "#clean data\n"
   ]
  },
  {
   "cell_type": "code",
   "execution_count": null,
   "id": "c43ebcd3-00f2-4b59-9312-20842886255b",
   "metadata": {
    "tags": []
   },
   "outputs": [],
   "source": [
    "#plot listings count on heatmap\n",
    "m = folium.Map(tiles='cartodbpositron')\n",
    "HeatMap(data=listings_gdf[['latitude', 'longitude']], radius=10).add_to(m)\n",
    "m"
   ]
  },
  {
   "cell_type": "code",
   "execution_count": 11,
   "id": "809d9e1f-244c-4b6e-8081-05c4f47b559f",
   "metadata": {},
   "outputs": [
    {
     "data": {
      "text/html": [
       "<div>\n",
       "<style scoped>\n",
       "    .dataframe tbody tr th:only-of-type {\n",
       "        vertical-align: middle;\n",
       "    }\n",
       "\n",
       "    .dataframe tbody tr th {\n",
       "        vertical-align: top;\n",
       "    }\n",
       "\n",
       "    .dataframe thead th {\n",
       "        text-align: right;\n",
       "    }\n",
       "</style>\n",
       "<table border=\"1\" class=\"dataframe\">\n",
       "  <thead>\n",
       "    <tr style=\"text-align: right;\">\n",
       "      <th></th>\n",
       "      <th>listing_id</th>\n",
       "      <th>listing_id_count</th>\n",
       "      <th>price_median</th>\n",
       "    </tr>\n",
       "  </thead>\n",
       "  <tbody>\n",
       "    <tr>\n",
       "      <th>0</th>\n",
       "      <td>2818</td>\n",
       "      <td>289</td>\n",
       "      <td>78.0</td>\n",
       "    </tr>\n",
       "    <tr>\n",
       "      <th>1</th>\n",
       "      <td>20168</td>\n",
       "      <td>365</td>\n",
       "      <td>100.0</td>\n",
       "    </tr>\n",
       "    <tr>\n",
       "      <th>2</th>\n",
       "      <td>27886</td>\n",
       "      <td>365</td>\n",
       "      <td>125.0</td>\n",
       "    </tr>\n",
       "    <tr>\n",
       "      <th>3</th>\n",
       "      <td>28871</td>\n",
       "      <td>209</td>\n",
       "      <td>75.0</td>\n",
       "    </tr>\n",
       "    <tr>\n",
       "      <th>4</th>\n",
       "      <td>29051</td>\n",
       "      <td>224</td>\n",
       "      <td>55.0</td>\n",
       "    </tr>\n",
       "  </tbody>\n",
       "</table>\n",
       "</div>"
      ],
      "text/plain": [
       "   listing_id  listing_id_count  price_median\n",
       "0        2818               289          78.0\n",
       "1       20168               365         100.0\n",
       "2       27886               365         125.0\n",
       "3       28871               209          75.0\n",
       "4       29051               224          55.0"
      ]
     },
     "execution_count": 11,
     "metadata": {},
     "output_type": "execute_result"
    }
   ],
   "source": [
    "#read in and groupby calendars(calendars too big to read all in)\n",
    "calendar_groupby_df=pd.DataFrame()\n",
    "for calendar_csv in calendar_csvs:\n",
    "    temp_calendar_df = pd.read_csv(calendar_csv, header=0, usecols=calendar_columns)\n",
    "    temp_calendar_df = temp_calendar_df[temp_calendar_df['available']== 'f']\n",
    "    temp_calendar_df.drop(columns='available', inplace=True)\n",
    "    temp_calendar_df['price'] = temp_calendar_df['price'].replace('[\\$,]', '', regex=True).astype(float)\n",
    "    temp_calendar_df = temp_calendar_df.drop(columns='date').groupby('listing_id').agg({'listing_id':'count', 'price':'median'})\n",
    "    temp_calendar_df.rename(columns={'listing_id':'listing_id_count', 'price':'price_median'}, inplace=True)\n",
    "    temp_calendar_df.reset_index(inplace=True)\n",
    "    calendar_groupby_df = pd.concat([calendar_groupby_df, temp_calendar_df], axis=0, ignore_index=True)\n",
    "calendar_groupby_df.head()"
   ]
  },
  {
   "cell_type": "code",
   "execution_count": 23,
   "id": "d598c125-0273-42ad-845e-e79b9682edc9",
   "metadata": {},
   "outputs": [
    {
     "name": "stderr",
     "output_type": "stream",
     "text": [
      "C:\\Users\\quynhvt5\\AppData\\Roaming\\Python\\Python310\\site-packages\\geopandas\\geodataframe.py:35: ShapelyDeprecationWarning: The array interface is deprecated and will no longer work in Shapely 2.0. Convert the '.coords' to a numpy array instead.\n",
      "  out = from_shapely(data)\n"
     ]
    },
    {
     "data": {
      "text/html": [
       "<div>\n",
       "<style scoped>\n",
       "    .dataframe tbody tr th:only-of-type {\n",
       "        vertical-align: middle;\n",
       "    }\n",
       "\n",
       "    .dataframe tbody tr th {\n",
       "        vertical-align: top;\n",
       "    }\n",
       "\n",
       "    .dataframe thead th {\n",
       "        text-align: right;\n",
       "    }\n",
       "</style>\n",
       "<table border=\"1\" class=\"dataframe\">\n",
       "  <thead>\n",
       "    <tr style=\"text-align: right;\">\n",
       "      <th></th>\n",
       "      <th>id</th>\n",
       "      <th>host_is_superhost</th>\n",
       "      <th>latitude</th>\n",
       "      <th>longitude</th>\n",
       "      <th>review_scores_rating</th>\n",
       "      <th>geometry</th>\n",
       "      <th>listing_id</th>\n",
       "      <th>listing_id_count</th>\n",
       "      <th>price_median</th>\n",
       "    </tr>\n",
       "  </thead>\n",
       "  <tbody>\n",
       "    <tr>\n",
       "      <th>0</th>\n",
       "      <td>23726706</td>\n",
       "      <td>f</td>\n",
       "      <td>52.34916</td>\n",
       "      <td>4.97879</td>\n",
       "      <td>4.99</td>\n",
       "      <td>POINT (4.97879 52.34916)</td>\n",
       "      <td>23726706</td>\n",
       "      <td>299</td>\n",
       "      <td>104.0</td>\n",
       "    </tr>\n",
       "    <tr>\n",
       "      <th>1</th>\n",
       "      <td>35815036</td>\n",
       "      <td>t</td>\n",
       "      <td>52.42419</td>\n",
       "      <td>4.95689</td>\n",
       "      <td>4.96</td>\n",
       "      <td>POINT (4.95689 52.42419)</td>\n",
       "      <td>35815036</td>\n",
       "      <td>122</td>\n",
       "      <td>105.0</td>\n",
       "    </tr>\n",
       "    <tr>\n",
       "      <th>2</th>\n",
       "      <td>31553121</td>\n",
       "      <td>f</td>\n",
       "      <td>52.43237</td>\n",
       "      <td>4.91821</td>\n",
       "      <td>4.74</td>\n",
       "      <td>POINT (4.91821 52.43237)</td>\n",
       "      <td>31553121</td>\n",
       "      <td>362</td>\n",
       "      <td>155.0</td>\n",
       "    </tr>\n",
       "    <tr>\n",
       "      <th>3</th>\n",
       "      <td>34745823</td>\n",
       "      <td>f</td>\n",
       "      <td>52.29620</td>\n",
       "      <td>5.01231</td>\n",
       "      <td>4.87</td>\n",
       "      <td>POINT (5.01231 52.29620)</td>\n",
       "      <td>34745823</td>\n",
       "      <td>75</td>\n",
       "      <td>87.0</td>\n",
       "    </tr>\n",
       "    <tr>\n",
       "      <th>4</th>\n",
       "      <td>44586947</td>\n",
       "      <td>t</td>\n",
       "      <td>52.31475</td>\n",
       "      <td>5.03030</td>\n",
       "      <td>5.00</td>\n",
       "      <td>POINT (5.03030 52.31475)</td>\n",
       "      <td>44586947</td>\n",
       "      <td>213</td>\n",
       "      <td>160.0</td>\n",
       "    </tr>\n",
       "  </tbody>\n",
       "</table>\n",
       "</div>"
      ],
      "text/plain": [
       "         id host_is_superhost  latitude  longitude  review_scores_rating  \\\n",
       "0  23726706                 f  52.34916    4.97879                  4.99   \n",
       "1  35815036                 t  52.42419    4.95689                  4.96   \n",
       "2  31553121                 f  52.43237    4.91821                  4.74   \n",
       "3  34745823                 f  52.29620    5.01231                  4.87   \n",
       "4  44586947                 t  52.31475    5.03030                  5.00   \n",
       "\n",
       "                   geometry  listing_id  listing_id_count  price_median  \n",
       "0  POINT (4.97879 52.34916)    23726706               299         104.0  \n",
       "1  POINT (4.95689 52.42419)    35815036               122         105.0  \n",
       "2  POINT (4.91821 52.43237)    31553121               362         155.0  \n",
       "3  POINT (5.01231 52.29620)    34745823                75          87.0  \n",
       "4  POINT (5.03030 52.31475)    44586947               213         160.0  "
      ]
     },
     "execution_count": 23,
     "metadata": {},
     "output_type": "execute_result"
    }
   ],
   "source": [
    "#cast pandas to geopandas\n",
    "temp_calendar_df = listings_df.merge(calendar_groupby_df, left_on='id', right_on='listing_id')\n",
    "temp_calendar_gdf=gpd.GeoDataFrame(temp_calendar_df, geometry=gpd.points_from_xy(temp_calendar_df.longitude, temp_calendar_df.latitude))\n",
    "temp_calendar_gdf.crs = {'init': 'epsg:4326'}\n",
    "temp_calendar_gdf.head()"
   ]
  },
  {
   "cell_type": "code",
   "execution_count": null,
   "id": "7e6a6468-d4bb-419c-b6c0-6bf10ca9e918",
   "metadata": {},
   "outputs": [],
   "source": [
    "#booking count\n",
    "m = folium.Map(tiles='cartodbpositron')\n",
    "HeatMap(data=temp_calendar_gdf[['latitude', 'longitude', 'listing_id_count']], radius=10).add_to(m)\n",
    "m"
   ]
  },
  {
   "cell_type": "code",
   "execution_count": null,
   "id": "2a493b3e-6dce-46d0-a8bc-9b9b3cfea3a6",
   "metadata": {},
   "outputs": [],
   "source": [
    "#price median\n",
    "m = folium.Map(tiles='cartodbpositron')\n",
    "HeatMap(data=temp_calendar_gdf[['latitude', 'longitude', 'price_median']].dropna(), radius=10).add_to(m)\n",
    "m"
   ]
  },
  {
   "cell_type": "code",
   "execution_count": null,
   "id": "896f1dd4-2258-47e5-8d59-a1c6cd32705d",
   "metadata": {},
   "outputs": [],
   "source": [
    "#average review scores rating\n",
    "m = folium.Map(tiles='cartodbpositron')\n",
    "HeatMap(data=temp_calendar_gdf[['latitude', 'longitude', 'review_scores_rating']].dropna(), radius=10).add_to(m)\n",
    "m"
   ]
  },
  {
   "cell_type": "code",
   "execution_count": null,
   "id": "4b3e90e8-1b03-4508-8d4b-c08273c97446",
   "metadata": {},
   "outputs": [],
   "source": []
  }
 ],
 "metadata": {
  "kernelspec": {
   "display_name": "Python 3 (ipykernel)",
   "language": "python",
   "name": "python3"
  },
  "language_info": {
   "codemirror_mode": {
    "name": "ipython",
    "version": 3
   },
   "file_extension": ".py",
   "mimetype": "text/x-python",
   "name": "python",
   "nbconvert_exporter": "python",
   "pygments_lexer": "ipython3",
   "version": "3.10.0"
  }
 },
 "nbformat": 4,
 "nbformat_minor": 5
}
